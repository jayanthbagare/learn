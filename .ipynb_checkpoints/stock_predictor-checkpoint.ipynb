{
 "cells": [
  {
   "cell_type": "code",
   "execution_count": 1,
   "metadata": {
    "collapsed": false
   },
   "outputs": [
    {
     "ename": "ImportError",
     "evalue": "cannot import name 'SVR'",
     "output_type": "error",
     "traceback": [
      "\u001b[0;31m---------------------------------------------------------------------------\u001b[0m",
      "\u001b[0;31mImportError\u001b[0m                               Traceback (most recent call last)",
      "\u001b[0;32m<ipython-input-1-2534ef67b4a0>\u001b[0m in \u001b[0;36m<module>\u001b[0;34m()\u001b[0m\n\u001b[1;32m      1\u001b[0m \u001b[0;32mimport\u001b[0m \u001b[0mcsv\u001b[0m\u001b[0;34m\u001b[0m\u001b[0m\n\u001b[1;32m      2\u001b[0m \u001b[0;32mimport\u001b[0m \u001b[0mnumpy\u001b[0m \u001b[0;32mas\u001b[0m \u001b[0mnp\u001b[0m\u001b[0;34m\u001b[0m\u001b[0m\n\u001b[0;32m----> 3\u001b[0;31m \u001b[0;32mfrom\u001b[0m \u001b[0msklearn\u001b[0m \u001b[0;32mimport\u001b[0m \u001b[0mSVR\u001b[0m\u001b[0;34m\u001b[0m\u001b[0m\n\u001b[0m\u001b[1;32m      4\u001b[0m \u001b[0;32mimport\u001b[0m \u001b[0mmatplotlib\u001b[0m\u001b[0;34m.\u001b[0m\u001b[0mpyplot\u001b[0m \u001b[0;32mas\u001b[0m \u001b[0mplt\u001b[0m\u001b[0;34m\u001b[0m\u001b[0m\n",
      "\u001b[0;31mImportError\u001b[0m: cannot import name 'SVR'"
     ]
    }
   ],
   "source": [
    "import csv\n",
    "import numpy as np\n",
    "from sklearn.svm import SVR\n",
    "import matplotlib.pyplot as plt"
   ]
  },
  {
   "cell_type": "code",
   "execution_count": null,
   "metadata": {
    "collapsed": true
   },
   "outputs": [],
   "source": [
    "dates = []\n",
    "prices = []"
   ]
  },
  {
   "cell_type": "code",
   "execution_count": null,
   "metadata": {
    "collapsed": true
   },
   "outputs": [],
   "source": [
    "def get_data(filename):\n",
    "    with open(filename,'r') as csvfile:\n",
    "        csvFileReader = csv.reader(csvfile)\n",
    "        next(csvFileReader)\n",
    "        \n",
    "        for row in csvFileReader:\n",
    "            dates.append(int(row[0].split('-')[0]))\n",
    "            prices.append(float(row[1]))\n",
    "        \n",
    "    return"
   ]
  },
  {
   "cell_type": "code",
   "execution_count": null,
   "metadata": {
    "collapsed": true
   },
   "outputs": [],
   "source": [
    "def predict_price(dates,prices,x):\n",
    "    dates = np.reshape(dates,(len(dates),1))\n",
    "    \n",
    "    svr_lin = SVR(kernel='linear',C=1e3)\n",
    "    svr_poly = SVR(kernel='poly', C=1e3,degree=2)\n",
    "    svr_rbf = SVR(kernel='rbf',C=1e3,gamma=0.1)\n",
    "    \n",
    "    svr_lin.fit(dates,prices)\n",
    "    svr_poly.fit(dates,prices)\n",
    "    svr_rbf.fit(dates,prices)\n",
    "    \n",
    "    plt.scatter(dates,prices,color='black',label='Original Data')\n",
    "    plt.plot(dates,svr_rbf.predict(dates),color='red',label='RBF Model')\n",
    "    plt.plot(dates,svr_poly.predict(dates),color='blue',label='RBF Model')\n",
    "    plt.plot(dates,svr_lin.predict(dates),color='green',label='RBF Model')\n",
    "    \n",
    "    plt.xlabel('Dates')\n",
    "    plt.ylabel('Prices')\n",
    "    plt.title('Support Vector Regression')\n",
    "    plt.legend()\n",
    "    plt.show()\n",
    "    \n",
    "    return svr_rbf.predict(x)[0],svr_lin(x)[0],svr_poly(x)[0]"
   ]
  },
  {
   "cell_type": "code",
   "execution_count": null,
   "metadata": {
    "collapsed": true
   },
   "outputs": [],
   "source": [
    "get_data('sap.csv')\n",
    "predicted_price = predict_price(dates,prices,31)"
   ]
  }
 ],
 "metadata": {
  "anaconda-cloud": {},
  "kernelspec": {
   "display_name": "Python [conda root]",
   "language": "python",
   "name": "conda-root-py"
  },
  "language_info": {
   "codemirror_mode": {
    "name": "ipython",
    "version": 3
   },
   "file_extension": ".py",
   "mimetype": "text/x-python",
   "name": "python",
   "nbconvert_exporter": "python",
   "pygments_lexer": "ipython3",
   "version": "3.5.2"
  }
 },
 "nbformat": 4,
 "nbformat_minor": 1
}
